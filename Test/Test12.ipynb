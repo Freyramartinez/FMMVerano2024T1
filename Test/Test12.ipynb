{
 "cells": [
  {
   "cell_type": "code",
   "execution_count": 2,
   "metadata": {},
   "outputs": [
    {
     "ename": "ModuleNotFoundError",
     "evalue": "No module named 'Ejercicio12'",
     "output_type": "error",
     "traceback": [
      "\u001b[0;31m---------------------------------------------------------------------------\u001b[0m",
      "\u001b[0;31mModuleNotFoundError\u001b[0m                       Traceback (most recent call last)",
      "Cell \u001b[0;32mIn[2], line 2\u001b[0m\n\u001b[1;32m      1\u001b[0m \u001b[38;5;66;03m# -----IMPORTACIONES BIEN ECHAS\u001b[39;00m\n\u001b[0;32m----> 2\u001b[0m \u001b[38;5;28;01mimport\u001b[39;00m \u001b[38;5;21;01mEjercicio12\u001b[39;00m\u001b[38;5;21;01m.\u001b[39;00m\u001b[38;5;21;01mabsoluta\u001b[39;00m \u001b[38;5;28;01mas\u001b[39;00m \u001b[38;5;21;01mfrecuencia_absoluta\u001b[39;00m\n\u001b[1;32m      3\u001b[0m \u001b[38;5;28;01mimport\u001b[39;00m \u001b[38;5;21;01mEjercicio12\u001b[39;00m\u001b[38;5;21;01m.\u001b[39;00m\u001b[38;5;21;01mcalculos\u001b[39;00m \u001b[38;5;28;01mas\u001b[39;00m \u001b[38;5;21;01mcalcular_rango\u001b[39;00m\n\u001b[1;32m      4\u001b[0m \u001b[38;5;28;01mimport\u001b[39;00m \u001b[38;5;21;01mEjercicio12\u001b[39;00m\u001b[38;5;21;01m.\u001b[39;00m\u001b[38;5;21;01mcalculos\u001b[39;00m \u001b[38;5;28;01mas\u001b[39;00m \u001b[38;5;21;01mcalcular_numero_clases\u001b[39;00m\n",
      "\u001b[0;31mModuleNotFoundError\u001b[0m: No module named 'Ejercicio12'"
     ]
    }
   ],
   "source": [
    "# -----IMPORTACIONES BIEN ECHAS\n",
    "import Ejercicio12.absoluta as frecuencia_absoluta\n",
    "import Ejercicio12.calculos as calcular_rango\n",
    "import Ejercicio12.calculos as calcular_numero_clases\n",
    "import Ejercicio12.calculos as calcular_ancho_clase\n",
    "import Ejercicio12.calculos as calcular_limites_clase\n",
    "import Ejercicio12.calculos as calcular_marcas_clase\n",
    "import Ejercicio12.frecuencias as frecuencia_relativa\n",
    "import Ejercicio12.frecuencias as frecuencia_acumulada\n",
    "import Ejercicio12.graficas as crear_histograma\n",
    "import Ejercicio12.graficas as crear_ojiva\n",
    "import Ejercicio12.ordenar as ordenar_datos\n",
    "import Ejercicio12.tabla as imprimir_tabla\n",
    "# Ejemplo de uso:\n",
    "datos = [250, 790, 470, 510, 500, 330, 300, 750, 580, 740, 420, 260, 440, 770, 400, 540, 530, 330, 390, 380, 340, 460, 530,\n",
    "260, 410, 360, 270, 510, 630, 330]\n",
    "\n",
    "# Paso 1: Ordenar los datos\n",
    "datos_ordenados = ordenar_datos.ordenar_datos(datos)\n",
    "\n",
    "# Paso 2: Calcular el rango\n",
    "rango, valor_min, valor_max = calcular_rango.calcular_rango(datos_ordenados)\n",
    "\n",
    "# Paso 3: Determinar el número de clases\n",
    "n = len(datos_ordenados)\n",
    "num_clases = calcular_numero_clases.calcular_numero_clases(n)\n",
    "\n",
    "# Paso 4: Calcular el ancho de clase\n",
    "ancho_clase = calcular_ancho_clase.calcular_ancho_clase(rango, num_clases)\n",
    "\n",
    "# Paso 5: Calcular límites de clase\n",
    "limites_inferiores, limites_superiores = calcular_limites_clase.calcular_limites_clase(valor_min, ancho_clase, num_clases)\n",
    "limites_superiores[-1] = valor_max  # Asegurar que el último límite superior sea el máximo valor\n",
    "\n",
    "# Paso 6: Calcular marcas de clase\n",
    "marcas_clase = calcular_marcas_clase.calcular_marcas_clase(limites_inferiores, limites_superiores)\n",
    "\n",
    "# Paso 7: Calcular frecuencias absolutas\n",
    "frec_absoluta = frecuencia_absoluta.frecuencia_absoluta(datos_ordenados, limites_inferiores, limites_superiores)\n",
    "\n",
    "# Paso 8: Calcular frecuencias relativas\n",
    "frec_relativa = frecuencia_relativa.frecuencia_relativa(frec_absoluta, n)\n",
    "\n",
    "# Paso 9: Calcular frecuencias acumuladas\n",
    "frec_acumulada = frecuencia_acumulada.frecuencia_acumulada(frec_absoluta)\n",
    "\n",
    "# Imprimir la tabla\n",
    "imprimir_tabla.imprimir_tabla(datos_ordenados, limites_inferiores, limites_superiores, marcas_clase, frec_absoluta, frec_relativa, frec_acumulada)\n",
    "\n",
    "# Crear los gráficos\n",
    "crear_histograma.crear_histograma(marcas_clase, frec_absoluta)\n",
    "\n",
    "crear_ojiva.crear_ojiva(marcas_clase, frec_absoluta)"
   ]
  }
 ],
 "metadata": {
  "kernelspec": {
   "display_name": "Python 3",
   "language": "python",
   "name": "python3"
  },
  "language_info": {
   "codemirror_mode": {
    "name": "ipython",
    "version": 3
   },
   "file_extension": ".py",
   "mimetype": "text/x-python",
   "name": "python",
   "nbconvert_exporter": "python",
   "pygments_lexer": "ipython3",
   "version": "3.12.4"
  }
 },
 "nbformat": 4,
 "nbformat_minor": 2
}
